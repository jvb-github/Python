{
 "cells": [
  {
   "cell_type": "markdown",
   "metadata": {},
   "source": [
    "# Python für Anfänger\n",
    "Jede dieser Zellen enthält ausfürbare Code schleifen. Diese können mit der Tasten-Kombination **Strg+Enter** ausgeführt werden. Wenn man keine Tastatur zur Hand hat, kann man auch die Zelle auswählen und sie mit Hilfe der **Run** Taste ausführen."
   ]
  },
  {
   "cell_type": "markdown",
   "metadata": {},
   "source": [
    "# 1. Hallo Welt - Quelltext, Kommmentare"
   ]
  },
  {
   "cell_type": "code",
   "execution_count": null,
   "metadata": {},
   "outputs": [],
   "source": [
    "print ('Hallo Welt')"
   ]
  },
  {
   "cell_type": "code",
   "execution_count": null,
   "metadata": {},
   "outputs": [],
   "source": [
    "# Dies ist ein Kommentar, der Interpreter ignoriert es"
   ]
  },
  {
   "cell_type": "code",
   "execution_count": null,
   "metadata": {},
   "outputs": [],
   "source": [
    "print ('Willkommen beim Crash-Kurs Python für Anfänger')\n",
    "# Kommentare können beliebig in den Code intergriert werden\n",
    "print ('Ich werden immer fleißig meinen Code dokumentieren') # Es ist wichtig sich dies direkt am Anfang anzugewöhnen!"
   ]
  },
  {
   "cell_type": "markdown",
   "metadata": {},
   "source": [
    "## 2. Die Basics 1 - Variablen, Datentypen, Whitespaces\n",
    "### Variablen"
   ]
  },
  {
   "cell_type": "code",
   "execution_count": null,
   "metadata": {},
   "outputs": [],
   "source": [
    "a = 13\n",
    "b = 'Hallo Informatik-Kurs'\n",
    "c = 42.5"
   ]
  },
  {
   "cell_type": "code",
   "execution_count": null,
   "metadata": {},
   "outputs": [],
   "source": [
    "b"
   ]
  },
  {
   "cell_type": "markdown",
   "metadata": {},
   "source": [
    "***Aufgabe***: *Versucht nun im folgenden Codefeld selber Variablen zu definieren und diese wieder auszugeben!*"
   ]
  },
  {
   "cell_type": "code",
   "execution_count": null,
   "metadata": {},
   "outputs": [],
   "source": []
  },
  {
   "cell_type": "markdown",
   "metadata": {},
   "source": [
    "Variablen sind Zeiger, die auf andere Werte verweisen. **Achtung:** Sie können jederzeit neu zugewiesen werden, d.h. sobald ich eine Variable neu ddefiniere, ist die vorhergehende Überschrieben und gelöscht."
   ]
  },
  {
   "cell_type": "code",
   "execution_count": null,
   "metadata": {},
   "outputs": [],
   "source": [
    "b = 'Hier ist die neue Variable'"
   ]
  },
  {
   "cell_type": "code",
   "execution_count": null,
   "metadata": {},
   "outputs": [],
   "source": [
    "b"
   ]
  },
  {
   "cell_type": "markdown",
   "metadata": {},
   "source": [
    "## 2.2 Datentypen\n",
    "Python kennt, wie viele andere Programmiersprachen auch, eine große Reihe von Datentypen, die zu unterschiedlichen Zwecken verwendet werden. \n",
    "Es gibt noch diverse andere Variablen, aber für den Anfang sollen die oben genannten genügen."
   ]
  },
  {
   "cell_type": "code",
   "execution_count": null,
   "metadata": {},
   "outputs": [],
   "source": [
    "#'Integer' - Ganze Zahlen, z.B. 7\n",
    "meine_ganzzahl = 7 \n",
    "#'Float' - Fließkommazahlen, z.B. 1.23\n",
    "# Aber Achtung: Kommazahlen werden im englischen mit Punkten geschrieben.\n",
    "meine_kommazahl = 1.23\n",
    "#'Bool' - Wahrheitswerte, d.h. 'True' oder 'False'\n",
    "mein_Bool = True\n",
    "#'String' - Zeichenkette, z.B. 'Hallo Welt'\n",
    "mein_string = 'Es ist 15 Uhr.'"
   ]
  },
  {
   "cell_type": "markdown",
   "metadata": {},
   "source": [
    "Welche Unterschiede siehst du beim Code der obigen Werte? Führe das oben stehende Codefeld aus und gibt im nächste Feld einige der Variablen selbstständig aus."
   ]
  },
  {
   "cell_type": "code",
   "execution_count": null,
   "metadata": {},
   "outputs": [],
   "source": []
  },
  {
   "cell_type": "markdown",
   "metadata": {},
   "source": [
    "## 2.3 Whitespaces\n",
    "Python hat eine spezielle Eigenheit: Einrückungen sind von Bedeutung. Es ist möglich entweder **1 Tab** oder **4 Leerzeichen** zu verwenden.\n",
    "Man sollte sich zwingend eine der beiden Varianten angewöhnen.\n",
    "Dieser Code funktioniert beispielsweise nicht:"
   ]
  },
  {
   "cell_type": "code",
   "execution_count": null,
   "metadata": {},
   "outputs": [],
   "source": [
    "def foo():\n",
    "bar = 12\n",
    "return bar\n",
    "\n",
    "print (foo())"
   ]
  },
  {
   "cell_type": "markdown",
   "metadata": {},
   "source": [
    "Dieser Code hier funktioniert:"
   ]
  },
  {
   "cell_type": "code",
   "execution_count": null,
   "metadata": {},
   "outputs": [],
   "source": [
    "def foo():\n",
    "    bar = 12\n",
    "    return bar\n",
    "\n",
    "print (foo())"
   ]
  },
  {
   "cell_type": "markdown",
   "metadata": {},
   "source": [
    "**Man darf die beiden Varianten nicht mischen!**"
   ]
  },
  {
   "cell_type": "markdown",
   "metadata": {},
   "source": [
    "## 2.4 Berechnungen\n",
    "Mit Variablen kann man auch rechnen, mit **Integers** zum Beispiel:"
   ]
  },
  {
   "cell_type": "code",
   "execution_count": null,
   "metadata": {},
   "outputs": [],
   "source": [
    "#Addition\n",
    "ergebnis1 = 1 + 1\n",
    "#Subtraktion\n",
    "ergebnis2 = 3 - 1\n",
    "#Multiplikation\n",
    "ergebnis3 = ergebnis1 * ergebnis2\n",
    "#Division\n",
    "ergebnis4 = 12 / ergebnis3\n"
   ]
  },
  {
   "cell_type": "markdown",
   "metadata": {},
   "source": [
    "Lass dir die einzelnen Ergebnisse ausgeben."
   ]
  },
  {
   "cell_type": "code",
   "execution_count": null,
   "metadata": {},
   "outputs": [],
   "source": []
  },
  {
   "cell_type": "markdown",
   "metadata": {},
   "source": [
    "Übe dich jetzt selbst ein wenig mit den Grundrechenarten"
   ]
  },
  {
   "cell_type": "markdown",
   "metadata": {},
   "source": [
    "## 2.5 Übung\n",
    "Du weißt jetzt über folgende Dinge Bescheid:\n",
    "* **Variablen**, in denen man Dinge speichern kann. Und später verwenden kann.\n",
    "* **Daten-Typen**, z.B. Zahlen (Integer oder Float), Zeichenketten (String)  und Wahrheitswerte (Boolean)\n",
    "* **Whitespace**, nicht sichtbares wie Leerzeichen und Zeilenumbrüche, die zwischen Python-Befehlen stehen\n",
    "* **Kommentare**, die den Code verständlicher machen\n",
    "* **Berechnungen** wie + - * /\n",
    "\n",
    "Zur Übung schreibst du nun ein kleinen Programm:\n",
    "* Schreibe in die erste Zeile einen Kommentar, es ist nicht so wichtig, was in dem Kommentar steht.\n",
    "* Weise der Variable ***foo*** den Wahrheitswert ***true*** zu\n",
    "* Weise der Variable ***bar*** die Kommazahl 1,234 zu\n",
    "* Weise der Variable ***baz*** das Ergebnis zu, das herauskommt, wenn man ***bar*** verdoppelt\n",
    "* Benutze die **print** Anweisung, um den Wert von ***baz*** auf dem Bildschirm auszugeben."
   ]
  },
  {
   "cell_type": "code",
   "execution_count": null,
   "metadata": {},
   "outputs": [],
   "source": []
  },
  {
   "cell_type": "markdown",
   "metadata": {},
   "source": [
    "## 2.6 Listen\n",
    "Listen sind Sammlungen von Daten, zum Beispiel von Variablen (l = [1,2,3]). "
   ]
  },
  {
   "cell_type": "code",
   "execution_count": null,
   "metadata": {},
   "outputs": [],
   "source": [
    "l = [1,2,3,4,a] # Wie man sieht können in Listen auch unterschiedliche Datentypen (hier Integer udn Variable) enthalten sein"
   ]
  },
  {
   "cell_type": "markdown",
   "metadata": {},
   "source": [
    "Listen werden ausgegeben, indem man ***l[Stelle]*** eingibt, wobei die Stelle durch eine Zahl ersetzt wird, die für den Platz der Liste steht. Probiere dies nun aus. Was fällt dir auf?"
   ]
  },
  {
   "cell_type": "code",
   "execution_count": null,
   "metadata": {},
   "outputs": [],
   "source": [
    "l[0]"
   ]
  },
  {
   "cell_type": "markdown",
   "metadata": {},
   "source": [
    "Listen lassen sich auch beliebig kombinieren. Dann müssen bei der Ausgabe Stellen beider Listen definiert werden."
   ]
  },
  {
   "cell_type": "code",
   "execution_count": null,
   "metadata": {},
   "outputs": [],
   "source": [
    "#Liste a\n",
    "la=[1,2,3]\n",
    "#Liste b\n",
    "lb=[4,5,6]\n",
    "#Kombinattion\n",
    "lol = [la,lb]\n",
    "#Beispiel Ausgabe\n",
    "lol[0][1]"
   ]
  },
  {
   "cell_type": "markdown",
   "metadata": {},
   "source": [
    "## 2.7 Loops\n",
    "Loops sind Schleifen oder Wiederholungen und könne zu unterschiedlichen Zwecken eingesetzt werden. In der Regel werden die Schleifen ausgeführt bis eine Abbruchbedingung eintritt (siehe 2.8 If-Schleifen). Schleifen, die keine solche Endbedingung haben werden Endlosschleifen genannt. Das unten aufgeführte Beispiel ist eine ***for-Schleife***. Sie funktioniert nach dem Muster: ***Für jedes Element einer Liste tue etwas***. Hier also die Ausgabe jeden Elements auf dem Bildschirm:"
   ]
  },
  {
   "cell_type": "code",
   "execution_count": null,
   "metadata": {},
   "outputs": [],
   "source": [
    "box = ['i0', 'i1', 'i2']"
   ]
  },
  {
   "cell_type": "code",
   "execution_count": null,
   "metadata": {},
   "outputs": [],
   "source": [
    "for item in box:\n",
    "    print(item)"
   ]
  },
  {
   "cell_type": "markdown",
   "metadata": {},
   "source": [
    "Die Elemente ***box*** und ***item*** sind Variablennamen. Die Bezeichnung ist also frei wählbar. Es ist demnach sinnvoll, Namen zu wählen, die dem Programmier etwas sagen. Zum Beispiel:"
   ]
  },
  {
   "cell_type": "code",
   "execution_count": null,
   "metadata": {},
   "outputs": [],
   "source": [
    "teilnehmerliste = ['Hinz','Kunz','Meier']"
   ]
  },
  {
   "cell_type": "code",
   "execution_count": null,
   "metadata": {},
   "outputs": [],
   "source": [
    "for teilnehmer in teilnehmerliste:\n",
    "    print(teilnehmer)"
   ]
  },
  {
   "cell_type": "markdown",
   "metadata": {},
   "source": [
    "Python hat mehrer Wege, schnell Listen zu erzeugen Eine Liste mit den Zahlen 1-10 kann man z.B. mit dem Befehl ***range*** erzeugen. Dabei ist der erste Wert der Startwert, der zweite ist der Wert, der **nicht** mehr Teil der Liste sein soll. Für 1-10 wäre das demnach 11.\n",
    "**Wichtig!** Alles, was in der Schleife sein soll, muss um einen 'Tab' oder '4 Leerzeichen' eingerückt werden. Im Folgenden Beispiel ist 'Hallo Welt' nicht mehr  Teil der Schleife."
   ]
  },
  {
   "cell_type": "code",
   "execution_count": null,
   "metadata": {},
   "outputs": [],
   "source": [
    "for zahl in range(1,11):\n",
    "    print(zahl)\n",
    "\n",
    "print ('Hallo Welt')"
   ]
  },
  {
   "cell_type": "markdown",
   "metadata": {},
   "source": [
    "## 2.8 If-Schleife\n",
    "Die If-Schleife ist eine der häufigsten Varianten beim Programmieren. Sie besagt, ***wenn x passiert, mache y***. Ergänzt werden, kann die Schleife noch mit den Begriffen **else** für 'anderenfalls' oder **elif** für 'anderenfalls, wenn'."
   ]
  },
  {
   "cell_type": "code",
   "execution_count": null,
   "metadata": {},
   "outputs": [],
   "source": [
    "a = 15"
   ]
  },
  {
   "cell_type": "code",
   "execution_count": null,
   "metadata": {},
   "outputs": [],
   "source": [
    "if a > 16:\n",
    "    print('A is greater than 15')\n",
    "elif a == 0:\n",
    "    print ('A is null')\n",
    "else:\n",
    "    print('A is not greater than 15')"
   ]
  },
  {
   "cell_type": "markdown",
   "metadata": {},
   "source": [
    "Probiere die If-Schleife aus, indem du unterschiedliche Werte für a definierst. "
   ]
  },
  {
   "cell_type": "markdown",
   "metadata": {},
   "source": [
    "## 2.9 Funktionen\n",
    "Python hat jede Menge eingebaute Funktionen:"
   ]
  },
  {
   "cell_type": "code",
   "execution_count": null,
   "metadata": {},
   "outputs": [],
   "source": [
    "print('Hello')"
   ]
  },
  {
   "cell_type": "code",
   "execution_count": null,
   "metadata": {},
   "outputs": [],
   "source": [
    "round(3.14159)"
   ]
  },
  {
   "cell_type": "code",
   "execution_count": null,
   "metadata": {},
   "outputs": [],
   "source": [
    "round(3.14159, ndigits=2)"
   ]
  },
  {
   "cell_type": "markdown",
   "metadata": {},
   "source": [
    "Aber natürlich kann man auch seine eigenen Definitionen kreieren. Dies macht man über ***def***. "
   ]
  },
  {
   "cell_type": "code",
   "execution_count": null,
   "metadata": {},
   "outputs": [],
   "source": [
    "def add(a, b):\n",
    "    result = a + b\n",
    "    \n",
    "    return result"
   ]
  },
  {
   "cell_type": "code",
   "execution_count": null,
   "metadata": {},
   "outputs": [],
   "source": [
    "add(5, 10)"
   ]
  },
  {
   "cell_type": "code",
   "execution_count": null,
   "metadata": {},
   "outputs": [],
   "source": [
    "add(2, 2)"
   ]
  },
  {
   "cell_type": "markdown",
   "metadata": {},
   "source": [
    "In Python kann man auch Module hinzuladen. Dies sind Programme / Programmteile (Snipets) die von anderen Programmieren geschrieben und zur Verfügung gestellt wurden. Dies geschieht mit Hilfe der Funktion. *import*"
   ]
  },
  {
   "cell_type": "code",
   "execution_count": null,
   "metadata": {},
   "outputs": [],
   "source": [
    "import"
   ]
  },
  {
   "cell_type": "markdown",
   "metadata": {},
   "source": [
    "# 3. Das Pizza - Problem\n",
    "## 3.1 Die Pizzen modellieren"
   ]
  },
  {
   "cell_type": "code",
   "execution_count": null,
   "metadata": {},
   "outputs": [],
   "source": [
    "# Alle Pizzen als Liste aufgeführt\n",
    "\n",
    "pizzas = [\n",
    "    ['klein', [28, 0], 5.50, 'kreis'], \n",
    "    ['groß', [30, 0], 7.50, 'kreis'], \n",
    "    ['party', [46, 33], 13.50, 'rechteck'],\n",
    "]"
   ]
  },
  {
   "cell_type": "markdown",
   "metadata": {},
   "source": [
    "Gib nun die einzelnen Pizzen aus. Schaue oben nach, wie man Listen ausgibt."
   ]
  },
  {
   "cell_type": "code",
   "execution_count": null,
   "metadata": {},
   "outputs": [],
   "source": []
  },
  {
   "cell_type": "markdown",
   "metadata": {},
   "source": [
    "## 3.2 Die Flächen der Pizzen definieren"
   ]
  },
  {
   "cell_type": "code",
   "execution_count": null,
   "metadata": {},
   "outputs": [],
   "source": [
    "# Funktion basierend auf Fläche udn Größe\n",
    "def pizza_area(size, shape):\n",
    "    if shape == 'kreis': # Berechnungen für  Flächeninhalt der Kreisfläche: Pi * r²\n",
    "        area = 3.141 * (size[0] / 2) ** 2\n",
    "    if shape == 'rechteck': # Berechnung für den Flächeninhalt von Rechtecken: a * b\n",
    "        area = size[0] * size[1]\n",
    "        \n",
    "    return area"
   ]
  },
  {
   "cell_type": "code",
   "execution_count": null,
   "metadata": {},
   "outputs": [],
   "source": [
    "# Berechnen wir nun die Pizzen\n",
    "for pizza in pizzas:\n",
    "    area = pizza_area(pizza[1], pizza[3]) # Berechnet den Flächeninhalt basierend auf den Formeln des vorherigen Codefelds\n",
    "    print(f'Pizza {pizza[0]} hat eine Fläche von {area} cm^2') # gibt den Flächeninhalt aus"
   ]
  },
  {
   "cell_type": "markdown",
   "metadata": {},
   "source": [
    "## 3.3 Das Pizza zu Euro Verhältnis - PZEV"
   ]
  },
  {
   "cell_type": "code",
   "execution_count": null,
   "metadata": {},
   "outputs": [],
   "source": [
    "def pizza_pzev(area, price): #Defintion des PZEV\n",
    "    pzev = area / price\n",
    "    \n",
    "    return pzev # Ergebnis in den Speicher laden"
   ]
  },
  {
   "cell_type": "code",
   "execution_count": null,
   "metadata": {},
   "outputs": [],
   "source": [
    "günstigste_pizza = '' # Leerer String für die Ausgabe eines Namens von oben\n",
    "bestes_pzev = 0 # Festlegung des Besten Verhältnisses von Größe zu Preis\n",
    "teuerste_pizza = ''\n",
    "schlechtestes_pzev = 9999 # Festlegung des schlechtesten Verhältnisses von Größe zu Preis\n",
    "\n",
    "for p in pizzas:\n",
    "    area = pizza_area(p[1], p[3]) # Für die Fläche sind die Positionen 2 (Durchmesser/Länge/Breite) und 4 (Form) entscheiden\n",
    "    pzev = pizza_pzev(area, p[2]) # Für das pzev sind die Fläche und die Position 3 (Preis) entscheiden\n",
    "    \n",
    "    if pzev > bestes_pzev: # If-Schleife zur Definition der günstigsten Pizza\n",
    "        bestes_pzev = pzev\n",
    "        günstigste_pizza = p[0]\n",
    "    \n",
    "    if pzev < schlechtestes_pzev:  # If-Schleife zur Definition der schlechtesten Pizza\n",
    "        schlechtestes_pzev = pzev\n",
    "        teuerste_pizza = p[0]\n",
    "    \n",
    "\n",
    "print(f'Die günstigste Pizza ist \"{günstigste_pizza}\" mit einem PZEV von {round(bestes_pzev)}!') #Ausgabe der günstigsten Pizza\n",
    "print(f'Die teuerste Pizza \"{teuerste_pizza}\" mit einem PZEV von {round(schlechtestes_pzev)}!')"
   ]
  },
  {
   "cell_type": "markdown",
   "metadata": {},
   "source": [
    "Aufgabe: Füge mindestens zwei weitere Pizzen in die Liste oben hinzu und schau wie sich das PZEV verändert.\n",
    "Bonus: Füge eine weitere Form einer Pizza hinzu"
   ]
  },
  {
   "cell_type": "markdown",
   "metadata": {},
   "source": [
    "# Extra: Zahlenraten\n",
    "Hier ist ein kleines Beispielprogramm in Python. Schau dir einzelnen Funktionen an und kommentiere, wofür sie wohl dienen. Zeig das Ergebnis Herrn von Bargen."
   ]
  },
  {
   "cell_type": "code",
   "execution_count": null,
   "metadata": {},
   "outputs": [],
   "source": [
    "import random\n",
    "\n",
    "print(\"Willkommen beim Zahlenraten!\")\n",
    "untergrenze = input(\"Gib die Untergrenze ein: \")\n",
    "obergrenze = input(\"Gib die Obergrenze ein: \")\n",
    "\n",
    "# input liefert strings. Wir brauchen integers. Also umwandeln\n",
    "untergrenze = int(untergrenze)\n",
    "obergrenze = int(obergrenze)\n",
    "\n",
    "zufallszahl = random.randint(untergrenze, obergrenze)\n",
    "\n",
    "print(\"Hallo, ich habe mir eine Zahl zwischen\" , untergrenze, \"und\", obergrenze, \"ausgedacht.\")\n",
    "print(\"Du musst raten!\")\n",
    "\n",
    "antwort = input(\"Rate eine Zahl: \")\n",
    "antwort = int(antwort)\n",
    "\n",
    "anzahlversuche = 1\n",
    "\n",
    "while antwort != zufallszahl:\n",
    "\tprint(\"Falsch\")\n",
    "\t\n",
    "\tif antwort > zufallszahl:\n",
    "\t\tprint(\"Deine Zahl ist zu gross.\")\n",
    "\telse:\n",
    "\t\tprint(\"Deine Zahl ist zu klein.\")\n",
    "\t\n",
    "\tantwort = input(\"Rate eine Zahl: \")\n",
    "\tantwort = int(antwort)\n",
    "\t\n",
    "\tanzahlversuche = anzahlversuche + 1\n",
    "\t\n",
    "print(\"Richtig\")\n",
    "print(\"Du hast\", anzahlversuche, \"Versuche gebraucht\")\n",
    "\n"
   ]
  }
 ],
 "metadata": {
  "kernelspec": {
   "display_name": "Python 3",
   "language": "python",
   "name": "python3"
  },
  "language_info": {
   "codemirror_mode": {
    "name": "ipython",
    "version": 3
   },
   "file_extension": ".py",
   "mimetype": "text/x-python",
   "name": "python",
   "nbconvert_exporter": "python",
   "pygments_lexer": "ipython3",
   "version": "3.7.5rc1"
  }
 },
 "nbformat": 4,
 "nbformat_minor": 4
}
